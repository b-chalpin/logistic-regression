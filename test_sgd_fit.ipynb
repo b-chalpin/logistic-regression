{
 "cells": [
  {
   "cell_type": "code",
   "execution_count": 1,
   "metadata": {},
   "outputs": [],
   "source": [
    "import pandas as pd\n",
    "import datetime\n",
    "import json\n",
    "import time\n",
    "import os\n",
    "import numpy as np\n",
    "from code_misc.utils import MyUtils\n",
    "from code_logistic_regression.logistic_regression import _v_sigmoid, LogisticRegression"
   ]
  },
  {
   "cell_type": "code",
   "execution_count": 2,
   "metadata": {},
   "outputs": [
    {
     "name": "stdout",
     "output_type": "stream",
     "text": [
      "(280, 34)\n",
      "(280, 1)\n"
     ]
    }
   ],
   "source": [
    "data_path = \"./dataset/ionosphere\"\n",
    "\n",
    "X_train = pd.read_csv(os.path.join(data_path, \"X_train.csv\"), header=None).to_numpy()\n",
    "y_train = pd.read_csv(os.path.join(data_path, \"y_train.csv\"), header=None).to_numpy()\n",
    "X_test = pd.read_csv(os.path.join(data_path, \"X_test.csv\"), header=None).to_numpy()\n",
    "y_test = pd.read_csv(os.path.join(data_path, \"y_test.csv\"), header=None).to_numpy()\n",
    "\n",
    "\n",
    "print(X_train.shape)\n",
    "print(y_train.shape)"
   ]
  },
  {
   "cell_type": "code",
   "execution_count": 4,
   "metadata": {},
   "outputs": [
    {
     "name": "stdout",
     "output_type": "stream",
     "text": [
      "11\n"
     ]
    }
   ],
   "source": [
    "max_degree = 1\n",
    "iterations = 10_000\n",
    "iteration_step = 1000\n",
    "mini_batch_size = 100\n",
    "eta = 0.01\n",
    "lam = 0.01\n",
    "\n",
    "lr = LogisticRegression()\n",
    "\n",
    "lr.fit(X=X_train, y=y_train, lam=lam, eta=eta, iterations=iterations, SGD=True, mini_batch_size=mini_batch_size)\n",
    "\n",
    "print(lr.error(X_test, y_test))\n",
    "\n",
    "# v_sigmoid = _v_sigmoid(test_v_sigmoid)\n",
    "# print(v_sigmoid)"
   ]
  },
  {
   "cell_type": "code",
   "execution_count": null,
   "metadata": {},
   "outputs": [],
   "source": []
  }
 ],
 "metadata": {
  "kernelspec": {
   "display_name": "Python 3",
   "language": "python",
   "name": "python3"
  },
  "language_info": {
   "codemirror_mode": {
    "name": "ipython",
    "version": 3
   },
   "file_extension": ".py",
   "mimetype": "text/x-python",
   "name": "python",
   "nbconvert_exporter": "python",
   "pygments_lexer": "ipython3",
   "version": "3.8.3"
  }
 },
 "nbformat": 4,
 "nbformat_minor": 4
}
